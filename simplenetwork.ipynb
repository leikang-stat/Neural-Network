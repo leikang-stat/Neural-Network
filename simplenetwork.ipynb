{
 "cells": [
  {
   "cell_type": "code",
   "execution_count": 82,
   "metadata": {
    "collapsed": false
   },
   "outputs": [],
   "source": [
    "from __future__ import division\n",
    "import numpy as np\n",
    "import matplotlib.pyplot as plt\n",
    "import random as rd\n",
    "from random import shuffle,sample\n",
    "import math\n",
    "import csv\n",
    "import glob\n",
    "import scipy.io\n",
    "from sklearn.feature_extraction import DictVectorizer as DV\n",
    "from sklearn.preprocessing import Imputer, LabelEncoder, LabelBinarizer\n",
    "from sklearn.neighbors import KNeighborsClassifier\n",
    "import sklearn.preprocessing as preprocessing\n",
    "%matplotlib inline\n",
    "import scipy\n",
    "from pylab import *\n",
    "from random import shuffle,sample\n",
    "import re\n",
    "from scipy.special import expit\n",
    "import time\n",
    "from sklearn import cross_validation\n",
    "import matplotlib.patches as mpatches\n",
    "from matplotlib.legend_handler import HandlerLine2D"
   ]
  },
  {
   "cell_type": "markdown",
   "metadata": {
    "collapsed": true
   },
   "source": [
    "# Prediction Performance Summary\n",
    "## for cross entropy 0.94140 (learning rate 0.01, num=60000, 200 hidden)\n",
    "## for mse 0.92500 (learning rate 0.01, num=60000, 200 hidden)\n",
    "## for cross entropy 0.94320 (learning rate 0.01, num=60000, 600 hidden)\n",
    "## for cross entropy 0.94340 (regular=0.0001, learning rate 0.01, num 60000, 200 hidden (best))\n",
    "## for cross entropy 0.94280 (regular=0.0001, learning rate 0.01, num 60000, 600 hidden)"
   ]
  },
  {
   "cell_type": "code",
   "execution_count": 2,
   "metadata": {
    "collapsed": false
   },
   "outputs": [],
   "source": [
    "###Read in Data and preprocessing\n",
    "train = scipy.io.loadmat('dataset/train.mat')\n",
    "test = scipy.io.loadmat('dataset/test.mat')"
   ]
  },
  {
   "cell_type": "code",
   "execution_count": 3,
   "metadata": {
    "collapsed": false
   },
   "outputs": [
    {
     "name": "stdout",
     "output_type": "stream",
     "text": [
      "(10000, 28, 28)\n",
      "(28, 28, 60000)\n"
     ]
    }
   ],
   "source": [
    "X_train = train['train_images']\n",
    "Y_train = train['train_labels'].ravel()\n",
    "X_test = test['test_images']\n",
    "print X_test.shape\n",
    "print X_train.shape"
   ]
  },
  {
   "cell_type": "markdown",
   "metadata": {},
   "source": [
    "# Preprocessing Data, add bias term to X"
   ]
  },
  {
   "cell_type": "code",
   "execution_count": 4,
   "metadata": {
    "collapsed": false
   },
   "outputs": [
    {
     "data": {
      "text/plain": [
       "(60000, 784)"
      ]
     },
     "execution_count": 4,
     "metadata": {},
     "output_type": "execute_result"
    }
   ],
   "source": [
    "###convert each image from 28*28 matrix to a 784 vector\n",
    "X_train_update=[]\n",
    "for i in range(X_train.shape[2]):\n",
    "    X_train_update.append(np.hstack(X_train[...,i]))\n",
    "X_train=np.asarray(X_train_update)\n",
    "X_train.shape"
   ]
  },
  {
   "cell_type": "code",
   "execution_count": 5,
   "metadata": {
    "collapsed": false
   },
   "outputs": [
    {
     "name": "stdout",
     "output_type": "stream",
     "text": [
      "(10000, 784)\n"
     ]
    }
   ],
   "source": [
    "X_test_update=[]\n",
    "for i in range(X_test.shape[0]):\n",
    "    X_test_update.append(np.hstack(X_test[i,...]))\n",
    "X_test_kaggle=np.asarray(X_test_update)\n",
    "print X_test_kaggle.shape"
   ]
  },
  {
   "cell_type": "code",
   "execution_count": 6,
   "metadata": {
    "collapsed": false
   },
   "outputs": [
    {
     "name": "stderr",
     "output_type": "stream",
     "text": [
      "/Users/chenglulu1127/anaconda/lib/python2.7/site-packages/sklearn/utils/validation.py:498: UserWarning: StandardScaler assumes floating point values as input, got uint8\n",
      "  \"got %s\" % (estimator, X.dtype))\n"
     ]
    }
   ],
   "source": [
    "X_pre_train = preprocessing.StandardScaler().fit_transform(X_train)\n",
    "X_pre_test = preprocessing.StandardScaler().fit_transform(X_test_kaggle)"
   ]
  },
  {
   "cell_type": "code",
   "execution_count": 7,
   "metadata": {
    "collapsed": true
   },
   "outputs": [],
   "source": [
    "X_train = np.hstack((np.ones((X_pre_train.shape[0],1)),X_pre_train))\n",
    "X_test = np.hstack((np.ones((X_pre_test.shape[0],1)),X_pre_test))"
   ]
  },
  {
   "cell_type": "markdown",
   "metadata": {
    "collapsed": true
   },
   "source": [
    "# Define stochastic gradient descent for neural network"
   ]
  },
  {
   "cell_type": "code",
   "execution_count": 8,
   "metadata": {
    "collapsed": true
   },
   "outputs": [],
   "source": [
    "def predict(test,V,W):\n",
    "    h = np.hstack((np.ones((test.shape[0],1)),np.tanh(np.dot(test,V.T))))\n",
    "    s = expit(np.dot(W,h.T))      \n",
    "    pred = np.argmax(s,axis=0)\n",
    "    return pred"
   ]
  },
  {
   "cell_type": "code",
   "execution_count": 78,
   "metadata": {
    "collapsed": true
   },
   "outputs": [],
   "source": [
    "###stochastic gradient descent function\n",
    "def SGD_Neuralnet2(X,Y,seed_num,step=0.01,num_iter=10,costfunction=1,\n",
    "                   num_hid=200,num_output=10,lamda=0):\n",
    "    # X[t] is 1*785\n",
    "    # W 10*201\n",
    "    # V 200 * 785\n",
    "    # h is 200*1\n",
    "    # h1 is 201 * 1\n",
    "    # s= s(Wh1) 10*1\n",
    "    def MeanSE(X,Y,Y_vect,V,W):\n",
    "\n",
    "        h = np.hstack((np.ones((X.shape[0],1)),np.tanh(np.dot(X,V.T))))\n",
    "        s = expit(np.dot(W,h.T))      \n",
    "        pred = np.argmax(s,axis=0)\n",
    "        acc = np.sum(pred == Y)/Y.shape[0] ##Accuracy\n",
    "        mse = np.sum(np.power(s.T - Y_vect,2))/2 ##MSE\n",
    "        return acc, mse\n",
    "    \n",
    "    def CrossEntroy(X,Y,Y_vect,V,W):\n",
    "        h = np.hstack((np.ones((X.shape[0],1)),np.tanh(np.dot(X,V.T))))\n",
    "        s = expit(np.dot(W,h.T))      \n",
    "        pred = np.argmax(s,axis=0)\n",
    "        acc = np.sum(pred == Y)/Y.shape[0] ##Accuracy\n",
    "        \n",
    "        risk = -np.sum(np.multiply(np.log(s).T,Y_vect)+np.multiply(np.log(1-s).T,1-Y_vect)) \n",
    "        \n",
    "        return acc, risk\n",
    "    \n",
    "    Emprisk_train=[]##emprical risk\n",
    "    Acc_train=[]##accuracy\n",
    "    num_input = X.shape[1]\n",
    "    \n",
    "    ##random shuffle data\n",
    "    rd.seed(seed_num)\n",
    "    index = rd.sample(range(X.shape[0]),X.shape[0])\n",
    "    X = X[index]\n",
    "    Y = Y[index]\n",
    "    \n",
    "    ###convert vector Y 50000*1 into binarized Y_vect 50000*10\n",
    "    le = preprocessing.LabelEncoder()\n",
    "    aa=le.fit_transform(Y)\n",
    "    LB = LabelBinarizer(neg_label=0, pos_label=1, sparse_output=False)\n",
    "    newY = LB.fit_transform(aa)\n",
    "    \n",
    "     \n",
    "    ##initialize weights with fan-in\n",
    "    np.random.seed(seed_num)\n",
    "    V = (1/sqrt(num_input))*np.random.randn(num_hid,num_input)\n",
    "    W = (1/sqrt(num_hid+1))*np.random.randn(num_output,num_hid+1)\n",
    "    i = 0\n",
    "\n",
    "    while i <= num_iter:\n",
    "        #print W.shape,V.shape\n",
    "        t = rd.sample(range(X.shape[0]),1)\n",
    "        h = np.squeeze(np.asarray(np.tanh(np.dot(V,X[t].T))))\n",
    "        #print h.shape\n",
    "        h1 = np.squeeze(np.asarray(np.hstack((1,h)))) ##h1 is 201 * 1 add bias term\n",
    "        #print h1.shape\n",
    "        s = np.squeeze(np.asarray(expit(np.dot(W,h1)))) ##s is 10 * 1\n",
    "        #print s.shape\n",
    "        ##create a vector of y coding response\n",
    "        y_vect = np.squeeze(np.asarray(newY[[t]]))\n",
    "        #print y_vect.shape\n",
    "        if costfunction == 1:\n",
    "        ##mean squared error update\n",
    "            dW=np.dot(np.mat((s-y_vect)*(1-s)*s).T,np.mat(h1))+ 2*lamda*W## 10*201\n",
    "            #print dW.shape\n",
    "            #print s.shape,h1.shape,W.shape\n",
    "            temp = np.mat(np.dot(W[:,1:].T,(s-y_vect)*(1-s)*s)).T\n",
    "            dV=np.dot(np.mat(np.squeeze(np.asarray(temp))*(1-np.power(h,2))).T,X[t]) \n",
    "            ##V is 200 * 785\n",
    "            #print dV.shape\n",
    "            #print dV.shape\n",
    "            #print s.shape,h1.shape\n",
    "        ##cross entropy update\n",
    "        if costfunction != 1: \n",
    "            dW=np.dot(np.mat((s-y_vect)).T,np.mat(h1)) + 2*lamda*W## 10*201\n",
    "            temp = np.mat(np.dot(W[:,1:].T,(s-y_vect))).T\n",
    "            dV=np.dot(np.mat(np.squeeze(np.asarray(temp))*(1-np.power(h,2))).T,X[t])\n",
    "        \n",
    "        V = V - step * dV\n",
    "        W = W - step * dW \n",
    "        #print W.shape, V.shape\n",
    "        if i % 1000 ==0:\n",
    "            if costfunction == 1:\n",
    "                acc_train,risk_train = MeanSE(X,Y,newY,V,W)\n",
    "                Emprisk_train.append(risk_train)\n",
    "                Acc_train.append(acc_train)\n",
    "                \n",
    "            if costfunction != 1:\n",
    "                acc_train,risk_train = CrossEntroy(X,Y,newY,V,W)\n",
    "                Emprisk_train.append(risk_train)\n",
    "                Acc_train.append(acc_train)\n",
    "                \n",
    "        i+=1\n",
    "        \n",
    "\n",
    "        \n",
    "    return Acc_train,Emprisk_train,V,W"
   ]
  },
  {
   "cell_type": "markdown",
   "metadata": {},
   "source": [
    "# Total Training Time using MSE loss function"
   ]
  },
  {
   "cell_type": "code",
   "execution_count": 79,
   "metadata": {
    "collapsed": false
   },
   "outputs": [
    {
     "name": "stdout",
     "output_type": "stream",
     "text": [
      "261.34798193\n"
     ]
    }
   ],
   "source": [
    "start =time.time()\n",
    "acc_train,emprisk_train,V,W=SGD_Neuralnet2(X_train,Y_train,seed_num=132,step=0.01,\n",
    "                                           num_iter=60000,costfunction=1,num_hid=200)\n",
    "print time.time()-start"
   ]
  },
  {
   "cell_type": "code",
   "execution_count": 85,
   "metadata": {
    "collapsed": false
   },
   "outputs": [
    {
     "data": {
      "image/png": "[encoded data removed]",
      "text/plain": [
       "<matplotlib.figure.Figure at 0x10fe52090>"
      ]
     },
     "metadata": {},
     "output_type": "display_data"
    }
   ],
   "source": [
    "fig, ax1 = plt.subplots()\n",
    "\n",
    "ax2 =ax1.twinx()\n",
    "ax1.plot(np.arange(0,len(acc_train)*1000,1000),acc_train,'g-')\n",
    "ax2.plot(np.arange(0,len(emprisk_train)*1000,1000),emprisk_train,'b-')\n",
    "\n",
    "ax1.set_xlabel('Number of iterations')\n",
    "ax1.set_ylabel('Training Classification Accuarcy')\n",
    "ax2.set_ylabel('Training Error')\n",
    "\n",
    "\n",
    "plt.savefig('train_mse.png')"
   ]
  },
  {
   "cell_type": "markdown",
   "metadata": {
    "collapsed": false
   },
   "source": [
    "# Total Training Time using cross-entropy loss function"
   ]
  },
  {
   "cell_type": "code",
   "execution_count": 86,
   "metadata": {
    "collapsed": false
   },
   "outputs": [
    {
     "name": "stdout",
     "output_type": "stream",
     "text": [
      "219.529835939\n"
     ]
    }
   ],
   "source": [
    "start =time.time()\n",
    "acc_train,emprisk_train,V,W=SGD_Neuralnet2(X_train,Y_train,seed_num=132,step=0.01,\n",
    "                                           num_iter=60000,costfunction=2,num_hid=200)\n",
    "print time.time()-start"
   ]
  },
  {
   "cell_type": "code",
   "execution_count": 87,
   "metadata": {
    "collapsed": false
   },
   "outputs": [
    {
     "data": {
      "image/png": "[encoded data removed]",
      "text/plain": [
       "<matplotlib.figure.Figure at 0x111333f10>"
      ]
     },
     "metadata": {},
     "output_type": "display_data"
    }
   ],
   "source": [
    "fig, ax1 = plt.subplots()\n",
    "\n",
    "ax2 =ax1.twinx()\n",
    "ax1.plot(np.arange(0,len(acc_train)*1000,1000),acc_train,'g-')\n",
    "ax2.plot(np.arange(0,len(emprisk_train)*1000,1000),emprisk_train,'b-')\n",
    "\n",
    "ax1.set_xlabel('Number of iterations')\n",
    "ax1.set_ylabel('Training Classification Accuarcy')\n",
    "ax2.set_ylabel('Training Error')\n",
    "\n",
    "\n",
    "plt.savefig('train_ce.png')"
   ]
  },
  {
   "cell_type": "markdown",
   "metadata": {},
   "source": [
    "# Prediction using 200 hidden units, learning rate 0.01, iterations 60000, cross-entropy error loss"
   ]
  },
  {
   "cell_type": "code",
   "execution_count": 598,
   "metadata": {
    "collapsed": false
   },
   "outputs": [],
   "source": [
    "acc_train2,emprisk_train2,V2,W2=SGD_Neuralnet2(X_train,Y_train,seed_num=132,step=0.01,\n",
    "                                                                  num_iter=60000,\n",
    "                                                                  costfunction=2,\n",
    "                                                                  num_hid=200)"
   ]
  },
  {
   "cell_type": "code",
   "execution_count": 599,
   "metadata": {
    "collapsed": false
   },
   "outputs": [
    {
     "data": {
      "text/plain": [
       "[<matplotlib.lines.Line2D at 0x10cfcac90>]"
      ]
     },
     "execution_count": 599,
     "metadata": {},
     "output_type": "execute_result"
    },
    {
     "data": {
      "image/png": "[encoded data removed]",
      "text/plain": [
       "<matplotlib.figure.Figure at 0x10d278110>"
      ]
     },
     "metadata": {},
     "output_type": "display_data"
    }
   ],
   "source": [
    "plt.plot(acc_train2)"
   ]
  },
  {
   "cell_type": "code",
   "execution_count": 689,
   "metadata": {
    "collapsed": true
   },
   "outputs": [],
   "source": [
    "pred = predict(X_test,V2,W2)"
   ]
  },
  {
   "cell_type": "code",
   "execution_count": 691,
   "metadata": {
    "collapsed": false
   },
   "outputs": [],
   "source": [
    "Y_submit = np.column_stack((range(1,10001),pred.T))\n",
    "np.savetxt('digit.csv',Y_submit,delimiter=',',header='Id,Category')"
   ]
  },
  {
   "cell_type": "markdown",
   "metadata": {},
   "source": [
    "# Prediction using 600 hidden units, learning rate 0.01, iterations 60000, cross-entropy error loss"
   ]
  },
  {
   "cell_type": "code",
   "execution_count": 12,
   "metadata": {
    "collapsed": false
   },
   "outputs": [],
   "source": [
    "acc_train3,emprisk_train3,V3,W3=SGD_Neuralnet2(X_train,Y_train,seed_num=132,step=0.01,\n",
    "                                               num_iter=60000,costfunction=2,num_hid=600)"
   ]
  },
  {
   "cell_type": "code",
   "execution_count": 13,
   "metadata": {
    "collapsed": false
   },
   "outputs": [
    {
     "data": {
      "text/plain": [
       "[<matplotlib.lines.Line2D at 0x165d379d0>]"
      ]
     },
     "execution_count": 13,
     "metadata": {},
     "output_type": "execute_result"
    },
    {
     "data": {
      "image/png": "[encoded data removed]",
      "text/plain": [
       "<matplotlib.figure.Figure at 0x134fb3e50>"
      ]
     },
     "metadata": {},
     "output_type": "display_data"
    }
   ],
   "source": [
    "plt.plot(acc_train3)"
   ]
  },
  {
   "cell_type": "code",
   "execution_count": 20,
   "metadata": {
    "collapsed": false
   },
   "outputs": [],
   "source": [
    "pred3 = predict(X_test,V3,W3)"
   ]
  },
  {
   "cell_type": "code",
   "execution_count": 21,
   "metadata": {
    "collapsed": false
   },
   "outputs": [],
   "source": [
    "Y_submit = np.column_stack((range(1,10001),pred3.T))\n",
    "np.savetxt('digit_600_cross.csv',Y_submit,delimiter=',',header='Id,Category')"
   ]
  },
  {
   "cell_type": "markdown",
   "metadata": {},
   "source": [
    "# CV to regularize NERUAL NETWORK"
   ]
  },
  {
   "cell_type": "code",
   "execution_count": 34,
   "metadata": {
    "collapsed": false
   },
   "outputs": [
    {
     "name": "stdout",
     "output_type": "stream",
     "text": [
      "One CV completed using time:  2336.24528503\n",
      "5-fold CV accuracy is  0.935333333333\n",
      "One CV completed using time:  1620.76859403\n",
      "5-fold CV accuracy is  0.927866666667\n",
      "One CV completed using time:  2257.52843904\n",
      "5-fold CV accuracy is  0.909916666667\n",
      "One CV completed using time:  1619.831671\n",
      "5-fold CV accuracy is  0.824829166667\n"
     ]
    }
   ],
   "source": [
    "###5-fold CV to select regularization parameter\n",
    "fold_num = 5\n",
    "kf = cross_validation.KFold(X_train.shape[0], n_folds=fold_num,shuffle=True)\n",
    "lamda = [0.001,0.01,0.1,1]\n",
    "\n",
    "avgacc=[]\n",
    "ACC=[]\n",
    "rd.seed(132)\n",
    "X = X_train\n",
    "Y = Y_train\n",
    "for l in lamda:\n",
    "    start = time.time()\n",
    "    for train_index, test_index in kf:\n",
    "        \n",
    "        Xtrain = X[train_index]\n",
    "        Ytrain = Y[train_index]\n",
    "        Xtest =  X[test_index]\n",
    "        Ytest =  Y[test_index]\n",
    "                           \n",
    "        train_acc, train_risk,V,W  = SGD_Neuralnet2(Xtrain,Ytrain,seed_num=132,\n",
    "                                                       step=0.01,num_iter=50000,\n",
    "                                                       costfunction=2,num_hid=200,\n",
    "                                                        lamda=l)\n",
    "\n",
    "        pred = predict(Xtest,V=V,W=W)\n",
    "        test_acc = np.sum(pred == Ytest)/Ytest.shape[0]\n",
    "        avgacc.append(test_acc)\n",
    "    ACC.append(np.mean(avgacc))\n",
    "    print \"One CV completed using time: \", time.time() - start\n",
    "    print \"5-fold CV accuracy is \",np.mean(avgacc)"
   ]
  },
  {
   "cell_type": "code",
   "execution_count": 37,
   "metadata": {
    "collapsed": false
   },
   "outputs": [
    {
     "name": "stdout",
     "output_type": "stream",
     "text": [
      "One CV completed using time:  1679.83051586\n",
      "5-fold CV accuracy is  0.93535\n",
      "One CV completed using time:  2040.79534817\n",
      "5-fold CV accuracy is  0.935016666667\n"
     ]
    }
   ],
   "source": [
    "##try another set of parameter\n",
    "lamda = [0.00001,0.0001]\n",
    "\n",
    "avgacc=[]\n",
    "ACC=[]\n",
    "rd.seed(132)\n",
    "X = X_train\n",
    "Y = Y_train\n",
    "for l in lamda:\n",
    "    start = time.time()\n",
    "    for train_index, test_index in kf:\n",
    "        \n",
    "        Xtrain = X[train_index]\n",
    "        Ytrain = Y[train_index]\n",
    "        Xtest =  X[test_index]\n",
    "        Ytest =  Y[test_index]\n",
    "                           \n",
    "        train_acc, train_risk,V,W  = SGD_Neuralnet2(Xtrain,Ytrain,seed_num=132,\n",
    "                                                       step=0.01,num_iter=50000,\n",
    "                                                       costfunction=2,num_hid=200,\n",
    "                                                        lamda=l)\n",
    "\n",
    "        pred = predict(Xtest,V=V,W=W)\n",
    "        test_acc = np.sum(pred == Ytest)/Ytest.shape[0]\n",
    "        avgacc.append(test_acc)\n",
    "    ACC.append(np.mean(avgacc))\n",
    "    print \"One CV completed using time: \", time.time() - start\n",
    "    print \"5-fold CV accuracy is \",np.mean(avgacc)"
   ]
  },
  {
   "cell_type": "markdown",
   "metadata": {},
   "source": [
    "# Best regularization is 0.0001 with 200 hidden units"
   ]
  },
  {
   "cell_type": "code",
   "execution_count": 35,
   "metadata": {
    "collapsed": true
   },
   "outputs": [],
   "source": [
    "acc_train4,emprisk_train4,V4,W4=SGD_Neuralnet2(X_train,Y_train,seed_num=132,step=0.01,\n",
    "                                               num_iter=60000,costfunction=2,\n",
    "                                               num_hid=200,lamda=0.0001)"
   ]
  },
  {
   "cell_type": "code",
   "execution_count": 43,
   "metadata": {
    "collapsed": false
   },
   "outputs": [
    {
     "name": "stdout",
     "output_type": "stream",
     "text": [
      "[0.14198333333333332, 0.78651666666666664, 0.81141666666666667, 0.84238333333333337, 0.85355000000000003, 0.85731666666666662, 0.87190000000000001, 0.87665000000000004, 0.88001666666666667, 0.89233333333333331, 0.89536666666666664, 0.89524999999999999, 0.90144999999999997, 0.90680000000000005, 0.90325, 0.90848333333333331, 0.91741666666666666, 0.91286666666666672, 0.91816666666666669, 0.92188333333333339, 0.92618333333333336, 0.92291666666666672, 0.92131666666666667, 0.92756666666666665, 0.92878333333333329, 0.92905000000000004, 0.93348333333333333, 0.93518333333333337, 0.93025000000000002, 0.93336666666666668, 0.93264999999999998, 0.93348333333333333, 0.93313333333333337, 0.93700000000000006, 0.93825000000000003, 0.93661666666666665, 0.93896666666666662, 0.94048333333333334, 0.94348333333333334, 0.94618333333333338, 0.94601666666666662, 0.94540000000000002, 0.94335000000000002, 0.94796666666666662, 0.94728333333333337, 0.94911666666666672, 0.94503333333333328, 0.94801666666666662, 0.94733333333333336, 0.94823333333333337, 0.94969999999999999, 0.94846666666666668, 0.94945000000000002, 0.9516, 0.95055000000000001, 0.94969999999999999, 0.95298333333333329, 0.95340000000000003, 0.95178333333333331, 0.95366666666666666, 0.95301666666666662]\n"
     ]
    },
    {
     "data": {
      "image/png": "[encoded data removed]",
      "text/plain": [
       "<matplotlib.figure.Figure at 0x1105c5550>"
      ]
     },
     "metadata": {},
     "output_type": "display_data"
    }
   ],
   "source": [
    "plt.plot(acc_train4)\n",
    "print acc_train4"
   ]
  },
  {
   "cell_type": "code",
   "execution_count": 36,
   "metadata": {
    "collapsed": true
   },
   "outputs": [],
   "source": [
    "pred = predict(X_test,V4,W4)\n",
    "Y_submit = np.column_stack((range(1,10001),pred.T))\n",
    "np.savetxt('digit_reg.csv',Y_submit,delimiter=',',header='Id,Category')"
   ]
  },
  {
   "cell_type": "markdown",
   "metadata": {},
   "source": [
    "# Best regularization is 0.0001 with 600 hidden units"
   ]
  },
  {
   "cell_type": "code",
   "execution_count": 38,
   "metadata": {
    "collapsed": false
   },
   "outputs": [
    {
     "name": "stdout",
     "output_type": "stream",
     "text": [
      "1289.06189489\n"
     ]
    }
   ],
   "source": [
    "start = time.time() \n",
    "acc_train5,emprisk_train5,V5,W5=SGD_Neuralnet2(X_train,Y_train,seed_num=132,step=0.01,\n",
    "                                               num_iter=60000,costfunction=2,\n",
    "                                               num_hid=600,lamda=0.0001)\n",
    "print time.time() - start"
   ]
  },
  {
   "cell_type": "code",
   "execution_count": 42,
   "metadata": {
    "collapsed": false
   },
   "outputs": [
    {
     "name": "stdout",
     "output_type": "stream",
     "text": [
      "[0.11951666666666666, 0.76383333333333336, 0.7886333333333333, 0.82063333333333333, 0.83888333333333331, 0.84533333333333338, 0.85794999999999999, 0.85083333333333333, 0.86228333333333329, 0.87788333333333335, 0.87385000000000002, 0.88490000000000002, 0.88454999999999995, 0.89578333333333338, 0.88908333333333334, 0.90098333333333336, 0.90911666666666668, 0.90134999999999998, 0.90623333333333334, 0.91310000000000002, 0.91838333333333333, 0.91221666666666668, 0.91241666666666665, 0.92454999999999998, 0.92248333333333332, 0.92074999999999996, 0.92696666666666672, 0.93223333333333336, 0.92513333333333336, 0.93020000000000003, 0.93226666666666669, 0.93551666666666666, 0.93228333333333335, 0.93171666666666664, 0.93735000000000002, 0.9311666666666667, 0.93808333333333338, 0.9361666666666667, 0.94399999999999995, 0.94328333333333336, 0.94346666666666668, 0.94533333333333336, 0.93981666666666663, 0.94573333333333331, 0.94425000000000003, 0.94523333333333337, 0.94378333333333331, 0.94271666666666665, 0.94340000000000002, 0.94861666666666666, 0.94576666666666664, 0.94741666666666668, 0.94673333333333332, 0.94608333333333339, 0.95136666666666669, 0.94846666666666668, 0.95366666666666666, 0.95315000000000005, 0.94976666666666665, 0.95571666666666666, 0.95516666666666672]\n"
     ]
    },
    {
     "data": {
      "image/png": "[encoded data removed]",
      "text/plain": [
       "<matplotlib.figure.Figure at 0x1101f9fd0>"
      ]
     },
     "metadata": {},
     "output_type": "display_data"
    }
   ],
   "source": [
    "plt.plot(acc_train5)\n",
    "print acc_train5"
   ]
  },
  {
   "cell_type": "code",
   "execution_count": 41,
   "metadata": {
    "collapsed": true
   },
   "outputs": [],
   "source": [
    "pred = predict(X_test,V5,W5)\n",
    "Y_submit = np.column_stack((range(1,10001),pred.T))\n",
    "np.savetxt('digit_reg_600.csv',Y_submit,delimiter=',',header='Id,Category')"
   ]
  },
  {
   "cell_type": "markdown",
   "metadata": {},
   "source": [
    "# Bagging and Ensemble Nerual NET"
   ]
  },
  {
   "cell_type": "code",
   "execution_count": 69,
   "metadata": {
    "collapsed": false
   },
   "outputs": [],
   "source": [
    "def bagging_net(X,Y,test,bag_number,iteration=60000,step=0.01,lamda=0,costfunction=2,\n",
    "                num_hid=200,seed=132):\n",
    "    np.random.seed(seed)\n",
    "    pred = []\n",
    "    for i in range(bag_number):\n",
    "        sample_index = np.random.choice(X.shape[0], X.shape[0], replace=True)\n",
    "        train_X_bag = X[sample_index,:]\n",
    "        train_Y_bag = Y[sample_index]\n",
    "        a,aa,V_bag,W_bag=SGD_Neuralnet2(train_X_bag,train_Y_bag,\n",
    "                                                       seed_num=seed,step=step,\n",
    "                                                       num_iter=iteration,\n",
    "                                                       costfunction=costfunction,\n",
    "                                                       num_hid=num_hid,lamda=lamda)\n",
    "        pred1 = predict(test,V_bag,W_bag)\n",
    "        pred.append(pred1)\n",
    "    result = asarray(pred)\n",
    "    \n",
    "    ##find majority vote\n",
    "    axis = 0\n",
    "    u, indices = np.unique(result, return_inverse=True)\n",
    "    final = u[np.argmax(np.apply_along_axis(np.bincount, axis, indices.reshape(result.shape),\n",
    "                                None, np.max(indices) + 1), axis=axis)]\n",
    "    return final"
   ]
  },
  {
   "cell_type": "code",
   "execution_count": 74,
   "metadata": {
    "collapsed": false
   },
   "outputs": [
    {
     "name": "stdout",
     "output_type": "stream",
     "text": [
      "29429.199111\n"
     ]
    }
   ],
   "source": [
    "t=time.time()\n",
    "pred = bagging_net(X_train,Y_train,X_test,100,iteration=60000,step=0.01,lamda=0.0001,\n",
    "                   costfunction=2,num_hid=200,seed=132)\n",
    "print time.time()-t"
   ]
  },
  {
   "cell_type": "code",
   "execution_count": 76,
   "metadata": {
    "collapsed": true
   },
   "outputs": [],
   "source": [
    "Y_submit = np.column_stack((range(1,10001),pred.T))\n",
    "np.savetxt('digit_bag.csv',Y_submit,delimiter=',',header='Id,Category')"
   ]
  }
 ],
 "metadata": {
  "kernelspec": {
   "display_name": "Python 2",
   "language": "python",
   "name": "python2"
  },
  "language_info": {
   "codemirror_mode": {
    "name": "ipython",
    "version": 2
   },
   "file_extension": ".py",
   "mimetype": "text/x-python",
   "name": "python",
   "nbconvert_exporter": "python",
   "pygments_lexer": "ipython2",
   "version": "2.7.10"
  }
 },
 "nbformat": 4,
 "nbformat_minor": 0
}
